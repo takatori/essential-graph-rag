{
 "cells": [
  {
   "cell_type": "code",
   "execution_count": null,
   "id": "0",
   "metadata": {},
   "outputs": [],
   "source": [
    "import requests\n",
    "\n",
    "remote_pdf_url = \"https://arxiv.org/pdf/1709.00666.pdf\"\n",
    "pdf_filename = \"ch02-downloaded.pdf\"\n",
    "\n",
    "response = requests.get(remote_pdf_url)\n",
    "\n",
    "if response.status_code == 200:\n",
    "    with open(pdf_filename, \"wb\") as pdf_file:\n",
    "        pdf_file.write(response.content)\n",
    "else:\n",
    "    print(\"Failed to download the PDF. Status code:\", response.status_code)"
   ]
  },
  {
   "cell_type": "code",
   "execution_count": null,
   "id": "1",
   "metadata": {},
   "outputs": [],
   "source": [
    "import pdfplumber\n",
    "\n",
    "text = \"\"\n",
    "\n",
    "with pdfplumber.open(pdf_filename) as pdf:\n",
    "    for page in pdf.pages:\n",
    "        text += page.extract_text()\n",
    "\n",
    "print(text[0:20])"
   ]
  },
  {
   "cell_type": "code",
   "execution_count": null,
   "id": "2",
   "metadata": {},
   "outputs": [],
   "source": [
    "def chunk_text(text, chunk_size, overlap, split_on_whitespace_only=True):\n",
    "    chunks = []\n",
    "    index = 0\n",
    "\n",
    "    while index < len(text):\n",
    "        if split_on_whitespace_only:\n",
    "            prev_whitespace = 0\n",
    "            left_index = index - overlap\n",
    "            while left_index >= 0:\n",
    "                if text[left_index] == \" \":\n",
    "                    prev_whitespace = left_index\n",
    "                    break\n",
    "                left_index -= 1\n",
    "            next_whitespace = text.find(\" \", index + chunk_size)\n",
    "            if next_whitespace == -1:\n",
    "                next_whitespace = len(text)\n",
    "            chunk = text[prev_whitespace:next_whitespace].strip()\n",
    "            chunks.append(chunk)\n",
    "            index = next_whitespace + 1\n",
    "        else:\n",
    "            start = max(0, index - overlap + 1)\n",
    "            end = min(index + chunk_size + overlap, len(text))\n",
    "            chunk = text[start:end].strip()\n",
    "            chunks.append(chunk)\n",
    "            index += chunk_size\n",
    "\n",
    "    return chunks"
   ]
  },
  {
   "cell_type": "code",
   "execution_count": null,
   "id": "3",
   "metadata": {},
   "outputs": [],
   "source": [
    "chunks = chunk_text(text, 500, 40)\n",
    "print(len(chunks))\n",
    "print(chunks[0])\n",
    "print(\"---\")\n",
    "print(chunks[1])"
   ]
  },
  {
   "cell_type": "code",
   "execution_count": null,
   "id": "4",
   "metadata": {},
   "outputs": [],
   "source": [
    "from sentence_transformers import SentenceTransformer\n",
    "\n",
    "# 1. Load a pretrained Sentence Transformer model\n",
    "model = SentenceTransformer(\"all-MiniLM-L6-v2\")\n",
    "\n",
    "def embed(texts):\n",
    "    # 2. Encode the texts to get their embeddings\n",
    "    embeddings = model.encode(texts, convert_to_tensor=True)\n",
    "    return embeddings\n",
    "\n",
    "\n",
    "embeddings = embed(chunks)\n",
    "print(len(embeddings))\n",
    "print(len(embeddings[0]))\n",
    "\n"
   ]
  },
  {
   "cell_type": "code",
   "execution_count": null,
   "id": "5",
   "metadata": {},
   "outputs": [],
   "source": [
    "print(embeddings.shape)"
   ]
  },
  {
   "cell_type": "code",
   "execution_count": null,
   "id": "6",
   "metadata": {},
   "outputs": [],
   "source": [
    "from neo4j import GraphDatabase\n",
    "\n",
    "driver = GraphDatabase.driver(\"neo4j://localhost:7687\", auth=(\"neo4j\", \"password\"))"
   ]
  },
  {
   "cell_type": "code",
   "execution_count": null,
   "id": "7",
   "metadata": {},
   "outputs": [],
   "source": [
    "driver.execute_query(\"\"\"CREATE VECTOR INDEX pdf IF NOT EXISTS\n",
    "FOR (c:Chunk)\n",
    "ON c.embedding\"\"\")"
   ]
  },
  {
   "cell_type": "code",
   "execution_count": null,
   "id": "8",
   "metadata": {},
   "outputs": [],
   "source": [
    "cypher_query = '''\n",
    "WITH $chunks as chunks, range(0, size($chunks)) AS index\n",
    "UNWIND index AS i\n",
    "WITH i, chunks[i] AS chunk, $embeddings[i] AS embedding\n",
    "MERGE (c:Chunk {index: i})\n",
    "SET c.text = chunk, c.embedding = embedding\n",
    "'''\n",
    "\n",
    "# neo4j driverはtensorを直接扱えないため、リストに変換する必要がある\n",
    "embeddings = [e.tolist() for e in embeddings]\n",
    "\n",
    "driver.execute_query(cypher_query, chunks=chunks, embeddings=embeddings)"
   ]
  },
  {
   "cell_type": "code",
   "execution_count": null,
   "id": "9",
   "metadata": {},
   "outputs": [],
   "source": [
    "records, _, _ = driver.execute_query(\"\"\"\n",
    "MATCH (c:Chunk) WHERE c.index = 0 RETURN c.embedding, c.text\n",
    "\"\"\")\n",
    "\n",
    "print(records[0][\"c.text\"][0:30])\n",
    "print(records[0][\"c.embedding\"][0:3])"
   ]
  },
  {
   "cell_type": "code",
   "execution_count": null,
   "id": "10",
   "metadata": {},
   "outputs": [],
   "source": [
    "question = \"At what time was Einstein really interested in experimental works?\"\n",
    "question_embedding = embed([question])[0]"
   ]
  },
  {
   "cell_type": "code",
   "execution_count": null,
   "id": "11",
   "metadata": {},
   "outputs": [],
   "source": [
    "query = '''\n",
    "CALL db.index.vector.queryNodes('pdf',2, $question_embedding) YIELD node AS hits, score\n",
    "RETURN hits.text AS text, score, hits.index AS index\n",
    "'''\n",
    "\n",
    "similar_records, _, _ = driver.execute_query(query, question_embedding=question_embedding.tolist())\n",
    "print(similar_records)"
   ]
  },
  {
   "cell_type": "code",
   "execution_count": null,
   "id": "12",
   "metadata": {},
   "outputs": [],
   "source": [
    "for record in similar_records:\n",
    "    print(record[\"text\"])\n",
    "    print(record[\"score\"], record[\"index\"])\n",
    "    print(\"---------\")"
   ]
  },
  {
   "cell_type": "code",
   "execution_count": null,
   "id": "13",
   "metadata": {},
   "outputs": [],
   "source": [
    "!ollama run llama3.2"
   ]
  },
  {
   "cell_type": "code",
   "execution_count": null,
   "id": "14",
   "metadata": {},
   "outputs": [],
   "source": [
    "import ollama\n",
    "\n",
    "system_message = \"You're en Einstein expert, but can only use the provided documents to respond to the questions.\"\n",
    "user_message = f\"\"\"\n",
    "Use the following documents to answer the question that will follow:\n",
    "{[doc[\"text\"] for doc in similar_records]}\n",
    "\n",
    "---\n",
    "\n",
    "The question to answer using information only from the above documents: {question}\n",
    "\"\"\"\n",
    "\n",
    "print(\"Question:\", question)\n",
    "\n",
    "stream = ollama.chat(\n",
    "    model='llama3.2',\n",
    "    messages=[\n",
    "        {\"role\": \"system\", \"content\": system_message},\n",
    "        {\"role\": \"user\", \"content\": user_message}\n",
    "    ],\n",
    "    stream=True,\n",
    ")\n",
    "\n",
    "for chunk in stream:\n",
    "    print(chunk['message']['content'], end='', flush=True)\n"
   ]
  },
  {
   "cell_type": "code",
   "execution_count": null,
   "id": "15",
   "metadata": {},
   "outputs": [],
   "source": [
    "try :\n",
    "    driver.execute_query(f\"CREATE FULLTEXT INDEX ftPdfChunk FOR (c:Chunk) ON EACH [c.text]\")\n",
    "except:\n",
    "    print(\"Fulltext Index already exists\")"
   ]
  },
  {
   "cell_type": "code",
   "execution_count": null,
   "id": "16",
   "metadata": {},
   "outputs": [],
   "source": [
    "result = driver.execute_query(\"SHOW INDEXES YIELD name, type, entityType, labelsOrTypes, properties, options\")\n",
    "\n",
    "for record in result:\n",
    "    print(record)"
   ]
  },
  {
   "cell_type": "code",
   "execution_count": null,
   "id": "17",
   "metadata": {},
   "outputs": [],
   "source": [
    "hybrid_query = '''\n",
    "CALL {\n",
    "    // vector index\n",
    "    CALL db.index.vector.queryNodes('pdf', $k, $question_embedding) YIELD node, score\n",
    "    WITH collect({node:node, score:score}) AS nodes, max(score) AS max\n",
    "    UNWIND nodes AS n\n",
    "    // We use 0 as min\n",
    "    RETURN n.node AS node, (n.score / max) AS score\n",
    "    UNION\n",
    "    // keyword index\n",
    "    CALL db.index.fulltext.queryNodes('ftPdfChunk', $question, {limit: $k})\n",
    "    YIELD node, score\n",
    "    WITH collect({node:node, score:score}) AS nodes, max(score) AS max\n",
    "    UNWIND nodes AS n\n",
    "    // We use 0 as min\n",
    "    RETURN n.node AS node, (n.score / max) AS score\n",
    "}\n",
    "// dedup\n",
    "WITH node, max(score) AS score ORDER BY score DESC LIMIT $k\n",
    "RETURN node, score\n",
    "'''\n",
    "\n",
    "similar_hybrid_records, _, _ = driver.execute_query(hybrid_query, question_embedding=question_embedding.tolist(), question=question, k=4)\n",
    "\n",
    "for record in similar_hybrid_records:\n",
    "    print(record[\"node\"][\"text\"])\n",
    "    print(record[\"score\"], record[\"node\"][\"index\"])\n",
    "    print(\"======\")\n",
    "\n",
    "\n"
   ]
  },
  {
   "cell_type": "code",
   "execution_count": null,
   "id": "18",
   "metadata": {},
   "outputs": [],
   "source": [
    "user_message = f\"\"\"\n",
    "Use the following documents to answer the question that will follow:\n",
    "{[doc[\"node\"][\"text\"] for doc in similar_hybrid_records]}\n",
    "\n",
    "---\n",
    "The question to answer using information only from the above documents: {question}\n",
    "\"\"\"\n",
    "\n",
    "print(\"Question:\", question)\n",
    "\n",
    "stream = ollama.chat(\n",
    "    model='llama3.2',\n",
    "    messages=[\n",
    "        {\"role\": \"system\", \"content\": system_message},\n",
    "        {\"role\": \"user\", \"content\": user_message}\n",
    "    ],\n",
    "    stream=True,\n",
    ")\n",
    "\n",
    "for chunk in stream:\n",
    "    print(chunk['message']['content'], end='', flush=True)"
   ]
  }
 ],
 "metadata": {
  "kernelspec": {
   "display_name": "essential-graph-rag",
   "language": "python",
   "name": "python3"
  },
  "language_info": {
   "codemirror_mode": {
    "name": "ipython",
    "version": 3
   },
   "file_extension": ".py",
   "mimetype": "text/x-python",
   "name": "python",
   "nbconvert_exporter": "python",
   "pygments_lexer": "ipython3",
   "version": "3.12.10"
  }
 },
 "nbformat": 4,
 "nbformat_minor": 5
}
