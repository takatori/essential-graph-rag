{
 "cells": [
  {
   "cell_type": "code",
   "execution_count": null,
   "id": "0",
   "metadata": {},
   "outputs": [],
   "source": [
    "%load_ext autoreload\n",
    "%autoreload 2"
   ]
  },
  {
   "cell_type": "code",
   "execution_count": null,
   "id": "1",
   "metadata": {},
   "outputs": [],
   "source": [
    "from datetime import datetime\n",
    "import pandas as pd\n",
    "from datasets import Dataset\n",
    "from ragas import evaluate\n",
    "from ragas.metrics import (\n",
    "    answer_correctness,\n",
    "    context_recall,\n",
    "    faithfulness,\n",
    ")\n",
    "\n",
    "\n",
    "from tqdm import tqdm\n",
    "from utils import neo4j_driver"
   ]
  },
  {
   "cell_type": "code",
   "execution_count": null,
   "id": "2",
   "metadata": {},
   "outputs": [],
   "source": [
    "test_data = pd.read_csv(\"data/benchmark_data.csv\", delimiter=\";\")\n",
    "test_data"
   ]
  },
  {
   "cell_type": "code",
   "execution_count": null,
   "id": "3",
   "metadata": {},
   "outputs": [],
   "source": [
    "import importlib\n",
    "import ch08_tools\n",
    "importlib.reload(ch08_tools)"
   ]
  },
  {
   "cell_type": "code",
   "execution_count": null,
   "id": "4",
   "metadata": {},
   "outputs": [],
   "source": [
    "answer, context = ch08_tools.get_answer(\"Who acted in the most movies?\")\n",
    "\n",
    "print(f\"Answer: {answer}\")\n",
    "print(f\"Context: {context}\")"
   ]
  },
  {
   "cell_type": "code",
   "execution_count": null,
   "id": "5",
   "metadata": {},
   "outputs": [],
   "source": [
    "answers = []\n",
    "ground_truths = []\n",
    "latencies = []\n",
    "contexts = []\n",
    "\n",
    "for i, row in tqdm(test_data.iterrows(), total=len(test_data), desc=\"Processing rows\"):\n",
    "    ground_truth, _, _ = neo4j_driver.execute_query(row[\"cypher\"])\n",
    "    ground_truths.append([str(el.data()) for el in ground_truth])\n",
    "    start = datetime.now()\n",
    "    try:\n",
    "        answer, context = ch08_tools.get_answer(row[\"question\"])\n",
    "        context = [el['content'] for el in context]\n",
    "    except Exception as e:\n",
    "        print(f\"Error processing row {i}: {e}\")\n",
    "        answer, context = None, []\n",
    "    latencies.append((datetime.now() - start).total_seconds())\n",
    "    answers.append(answer)\n",
    "    contexts.append(context)"
   ]
  },
  {
   "cell_type": "code",
   "execution_count": null,
   "id": "6",
   "metadata": {},
   "outputs": [],
   "source": [
    "print(contexts)\n",
    "print(answers)"
   ]
  },
  {
   "cell_type": "code",
   "execution_count": null,
   "id": "7",
   "metadata": {},
   "outputs": [],
   "source": [
    "test_data['ground_truth'] = [str(el) for el in ground_truths]\n",
    "test_data['answer'] = answers\n",
    "test_data['latency'] = latencies\n",
    "test_data['retrieved_contexts'] = contexts"
   ]
  },
  {
   "cell_type": "code",
   "execution_count": null,
   "id": "8",
   "metadata": {},
   "outputs": [],
   "source": [
    "test_data"
   ]
  },
  {
   "cell_type": "code",
   "execution_count": null,
   "id": "9",
   "metadata": {},
   "outputs": [],
   "source": [
    "from langchain_community.chat_models import ChatOllama\n",
    "from langchain_community.embeddings import OllamaEmbeddings\n",
    "\n",
    "llm = ChatOllama(model=\"llama3.2\")\n",
    "embeddings = OllamaEmbeddings(model=\"llama3.2\")"
   ]
  },
  {
   "cell_type": "code",
   "execution_count": null,
   "id": "10",
   "metadata": {},
   "outputs": [],
   "source": [
    "dataset = Dataset.from_pandas(test_data.fillna(\"I don't know\"))\n",
    "result = evaluate(\n",
    "    dataset,\n",
    "    metrics=[\n",
    "        answer_correctness,\n",
    "        context_recall,\n",
    "        faithfulness,\n",
    "    ],\n",
    "    llm=llm,\n",
    "    embeddings=embeddings,\n",
    ")\n",
    "print(result)"
   ]
  },
  {
   "cell_type": "code",
   "execution_count": null,
   "id": "11",
   "metadata": {},
   "outputs": [],
   "source": [
    "print(dataset)"
   ]
  },
  {
   "cell_type": "code",
   "execution_count": null,
   "id": "12",
   "metadata": {},
   "outputs": [],
   "source": [
    "for key in [\"answer_correctness\", \"context_recall\", \"faithfulness\"]:\n",
    "    test_data[key] = [el[key] for el in result.scores]\n",
    "test_data"
   ]
  },
  {
   "cell_type": "code",
   "execution_count": null,
   "id": "13",
   "metadata": {},
   "outputs": [],
   "source": []
  }
 ],
 "metadata": {
  "kernelspec": {
   "display_name": "essential-graph-rag",
   "language": "python",
   "name": "python3"
  },
  "language_info": {
   "codemirror_mode": {
    "name": "ipython",
    "version": 3
   },
   "file_extension": ".py",
   "mimetype": "text/x-python",
   "name": "python",
   "nbconvert_exporter": "python",
   "pygments_lexer": "ipython3",
   "version": "3.12.10"
  }
 },
 "nbformat": 4,
 "nbformat_minor": 5
}
