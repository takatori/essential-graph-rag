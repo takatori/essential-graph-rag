{
 "cells": [
  {
   "cell_type": "code",
   "execution_count": null,
   "id": "0",
   "metadata": {},
   "outputs": [],
   "source": [
    "%load_ext autoreload\n",
    "%autoreload 2"
   ]
  },
  {
   "cell_type": "code",
   "execution_count": null,
   "id": "1",
   "metadata": {},
   "outputs": [],
   "source": [
    "from utils import neo4j_driver\n",
    "from schema_utils import get_schema\n",
    "\n",
    "schema_string = get_schema(neo4j_driver)\n",
    "print(schema_string)"
   ]
  },
  {
   "cell_type": "code",
   "execution_count": null,
   "id": "2",
   "metadata": {},
   "outputs": [],
   "source": [
    "prompt_template = \"\"\"\n",
    "Instructions: \n",
    "Generate Cypher statement to query a graph database to get the data to answer the user question below.\n",
    "\n",
    "Graph Database Schema:\n",
    "Use only the provided relationship types and properties in the schema.\n",
    "Do not use any other relationship types or properties that are not provided in the schema.\n",
    "{schema}\n",
    "\n",
    "Terminology mapping:\n",
    "This section is helpful to map terminology between the user question and the graph database schema.\n",
    "{terminology}\n",
    "\n",
    "Examples:\n",
    "The following examples provide useful patterns for querying the graph database.\n",
    "{examples}\n",
    "\n",
    "Format instructions:\n",
    "Do not include any explanations or apologies in your responses.\n",
    "Do not respond to any questions that might ask anything else than for you to \n",
    "construct a Cypher statement.\n",
    "Do not include any text except the generated Cypher statement.\n",
    "ONLY RESPOND WITH CYPHER, NO CODEBLOCKS.\n",
    "\n",
    "User question: {question}\n",
    "\"\"\""
   ]
  },
  {
   "cell_type": "code",
   "execution_count": null,
   "id": "3",
   "metadata": {},
   "outputs": [],
   "source": [
    "terminology_string = \"\"\"\n",
    "Persons: When a user asks about a person by trade like actor, writer, director, producer, reviewer, they are referring to a node with the label 'Person'.\n",
    "Movies: When a user asks about a film or movie, they are referring to a node with the label Movie.\n",
    "\"\"\""
   ]
  },
  {
   "cell_type": "code",
   "execution_count": null,
   "id": "4",
   "metadata": {},
   "outputs": [],
   "source": [
    "examples = [\n",
    "    [\n",
    "        \"Who are the two people acted in most movies together?\",\n",
    "        \"MATCH (p1:Person)-[:ACTED_IN]->(m:Movie)<-[:ACTED_IN]-(p2:Person) WHERE p1 <> p2 RETURN p1.name, p2.name, COUNT(m) AS movieCount ORDER BY movieCount DESC LIMIT 1\"\n",
    "    ]\n",
    "]   "
   ]
  },
  {
   "cell_type": "code",
   "execution_count": null,
   "id": "5",
   "metadata": {},
   "outputs": [],
   "source": [
    "question = \"Who directed the most movies?\"\n",
    "\n",
    "formatted_examples = \"\\n\".join([f\"Question: {e[0]}\\nCypher: {e[1]}\" for i, e in enumerate(examples)])\n",
    "\n",
    "full_prompt = prompt_template.format(question=question, schema=schema_string, terminology=terminology_string,examples=formatted_examples)\n",
    "print(full_prompt)"
   ]
  },
  {
   "cell_type": "code",
   "execution_count": null,
   "id": "6",
   "metadata": {},
   "outputs": [],
   "source": [
    "import ollama\n",
    "\n",
    "result = ollama.chat(\n",
    "    model=\"llama3.2\",\n",
    "    messages=[\n",
    "        {\"role\":\"user\", \"content\": full_prompt},\n",
    "    ]\n",
    ")\n",
    "\n",
    "cypher = result['message']['content'].strip()\n",
    "print(cypher)"
   ]
  },
  {
   "cell_type": "code",
   "execution_count": null,
   "id": "7",
   "metadata": {},
   "outputs": [],
   "source": [
    "neo4j_driver.execute_query(cypher)"
   ]
  }
 ],
 "metadata": {
  "kernelspec": {
   "display_name": "essential-graph-rag",
   "language": "python",
   "name": "python3"
  },
  "language_info": {
   "codemirror_mode": {
    "name": "ipython",
    "version": 3
   },
   "file_extension": ".py",
   "mimetype": "text/x-python",
   "name": "python",
   "nbconvert_exporter": "python",
   "pygments_lexer": "ipython3",
   "version": "3.12.10"
  }
 },
 "nbformat": 4,
 "nbformat_minor": 5
}
