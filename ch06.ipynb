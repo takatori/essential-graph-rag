{
 "cells": [
  {
   "cell_type": "code",
   "execution_count": null,
   "id": "0",
   "metadata": {},
   "outputs": [],
   "source": [
    "import os\n",
    "from pydantic import BaseModel, Field\n",
    "from typing import Optional, List\n",
    "import json\n",
    "from utils import neo4j_driver"
   ]
  },
  {
   "cell_type": "code",
   "execution_count": null,
   "id": "1",
   "metadata": {},
   "outputs": [],
   "source": [
    "class Location(BaseModel):\n",
    "    address: Optional[str] = Field(..., description=\"The street address of the location.\")\n",
    "    city: Optional[str] = Field(..., description=\"The city of the location.\")\n",
    "    state: Optional[str] = Field(..., description=\"The state or region of the location.\")\n",
    "    country: str = Field(..., description=\"The country of the location. Use the two-letter ISO standard.\")\n",
    "\n",
    "class Organization(BaseModel):\n",
    "    name: str = Field(..., description=\"The name of the organization.\")\n",
    "    location: Location = Field(..., description=\"The primary location of the organization.\")\n",
    "    role: str = Field(..., description=\"The role of the organization in the contract, such as 'provider', 'client', 'supplier', etc.\")\n",
    "\n",
    "contract_types = [\n",
    "    \"Service Agreement\",\n",
    "    \"Licensing Agreement\",\n",
    "    \"Non-Disclosure Agreement (NDA)\",\n",
    "    \"Partnership Agreement\",\n",
    "    \"Lease Agreement\"\n",
    "]\n",
    "\n",
    "\n",
    "class Contract(BaseModel):\n",
    "    contract_type: str = Field(..., description=\"The type of contract being entered into.\", enum=contract_types)\n",
    "    parties: List[Organization] = Field(..., description=\"List of parties involved in the contract, with details of each party's role.\")\n",
    "    effective_date: Optional[str] = Field(..., description=\"The date when the contract becomes effective. Use yyyy-MM-dd format.\")\n",
    "    term: str = Field(..., description=\"The duration of the agreement, including provisions for renewal or termination.\")\n",
    "    contract_scope: str = Field(..., description=\"Description of the scope of the contract, including rights, duties, and any limitations.\")\n",
    "    end_date: Optional[str] = Field(..., description=\"The date when the contract becomes expires. Use yyyy-MM-dd format.\")\n",
    "    total_amount: Optional[float] = Field(..., description=\"Total value of the contract.\")\n",
    "    governing_law: Optional[Location] = Field(..., description=\"The jurisdiction's laws governing the contract.\")\n",
    "    \n"
   ]
  },
  {
   "cell_type": "code",
   "execution_count": null,
   "id": "2",
   "metadata": {},
   "outputs": [],
   "source": [
    "system_message = \"\"\"\n",
    "You are an expert in extracting structured information from legal documents and contracts.\n",
    "Identify key details such as parties involved, dates, terms, obligations, and legal definitions.\n",
    "Present the extracted information in a clear, structured format. Be concise, focusing on essential\n",
    "legal content and ignoring unnecessary boilerplate language.\"\"\""
   ]
  },
  {
   "cell_type": "code",
   "execution_count": null,
   "id": "3",
   "metadata": {},
   "outputs": [],
   "source": [
    "import ollama\n",
    "\n",
    "def extract(document, model=\"llama3.2\"):\n",
    "    response = ollama.chat(\n",
    "        model=model,\n",
    "        messages=[\n",
    "            {\"role\": \"system\", \"content\": system_message},\n",
    "            {\"role\": \"user\", \"content\": document}\n",
    "        ],\n",
    "        format=Contract.model_json_schema()\n",
    "    )\n",
    "    return Contract.model_validate_json(response.message.content)"
   ]
  },
  {
   "cell_type": "code",
   "execution_count": null,
   "id": "4",
   "metadata": {},
   "outputs": [],
   "source": [
    "with open(\"data/license_agreement.txt\") as f:\n",
    "    document = f.read()"
   ]
  },
  {
   "cell_type": "code",
   "execution_count": null,
   "id": "5",
   "metadata": {},
   "outputs": [],
   "source": [
    "data = extract(document)\n",
    "data"
   ]
  },
  {
   "cell_type": "code",
   "execution_count": null,
   "id": "6",
   "metadata": {},
   "outputs": [],
   "source": [
    "print(data.model_dump_json(indent=2))"
   ]
  },
  {
   "cell_type": "code",
   "execution_count": null,
   "id": "7",
   "metadata": {},
   "outputs": [],
   "source": [
    "neo4j_driver.execute_query(\n",
    "    \"CREATE CONSTRAINT IF NOT EXISTS FOR (c:Contract) REQUIRE c.id IS UNIQUE;\"\n",
    ")\n",
    "neo4j_driver.execute_query(\n",
    "    \"CREATE CONSTRAINT IF NOT EXISTS FOR (o:Organization) REQUIRE o.name IS UNIQUE;\"\n",
    ")\n",
    "neo4j_driver.execute_query(\n",
    "    \"CREATE CONSTRAINT IF NOT EXISTS FOR (l:Location) REQUIRE l.fullAddress IS UNIQUE;\"\n",
    ")\n"
   ]
  },
  {
   "cell_type": "code",
   "execution_count": null,
   "id": "8",
   "metadata": {},
   "outputs": [],
   "source": [
    "import_query = \"\"\"WITH $data AS contract_data\n",
    "// Create Contract node\n",
    "MERGE (contract:Contract {id: randomUUID()})\n",
    "SET contract.contract_type = contract_data.contract_type,\n",
    "  contract.effective_date =  contract_data.effective_date,\n",
    "  contract.term = contract_data.term,\n",
    "  contract.contract_scope =  contract_data.contract_scope,\n",
    "  contract.end_date = contract_data.end_date,\n",
    "  contract.total_amount = contract_data.total_amount,\n",
    "  contract.governing_law = contract_data.governing_law.state + ' ' + contract_data.governing_law.country\n",
    "WITH contract, contract_data\n",
    "// Create Party nodes and their locations\n",
    "UNWIND contract_data.parties AS party\n",
    "MERGE (p:Organization {name: party.name})\n",
    "MERGE (loc:Location {\n",
    "  fullAddress: party.location.address + ' ' +\n",
    "                party.location.city + ' ' +\n",
    "                party.location.state + ' ' +\n",
    "                party.location.country})\n",
    "SET loc.address = party.location.address,\n",
    "  loc.city = party.location.city,\n",
    "  loc.state =  party.location.state,\n",
    "  loc.country = party.location.country\n",
    "// Link party to their location\n",
    "MERGE (p)-[:LOCATED_AT]->(loc)\n",
    "// Link parties to the contract\n",
    "MERGE (p)-[r:HAS_PARTY]->(contract)\n",
    "SET r.role = party.role\n",
    "\"\"\"\n",
    "neo4j_driver.execute_query(import_query, data=data.model_dump())"
   ]
  },
  {
   "cell_type": "code",
   "execution_count": null,
   "id": "9",
   "metadata": {},
   "outputs": [],
   "source": [
    "print(data.contract_type)"
   ]
  },
  {
   "cell_type": "code",
   "execution_count": null,
   "id": "10",
   "metadata": {},
   "outputs": [],
   "source": []
  }
 ],
 "metadata": {
  "kernelspec": {
   "display_name": "essential-graph-rag",
   "language": "python",
   "name": "python3"
  },
  "language_info": {
   "codemirror_mode": {
    "name": "ipython",
    "version": 3
   },
   "file_extension": ".py",
   "mimetype": "text/x-python",
   "name": "python",
   "nbconvert_exporter": "python",
   "pygments_lexer": "ipython3",
   "version": "3.12.10"
  }
 },
 "nbformat": 4,
 "nbformat_minor": 5
}
